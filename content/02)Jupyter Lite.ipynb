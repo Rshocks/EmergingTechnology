{
 "cells": [
  {
   "cell_type": "markdown",
   "id": "f72e323f",
   "metadata": {},
   "source": [
    "# JupyterLite\n",
    "***\n",
    "This notebook is about JupyterLite\n",
    "\n",
    "* JupyterLite is about accessible browser orientated collaborative computting. It is a fully static distribution which runs browser side, without having to run jupyter notebook/lab in a terminal on a user's local machine.\n",
    "\n",
    "\n",
    "* The static files JupyterLite uses means there is no need to excecute a backend enviroment making it easily scalable and easier to deploy.\n",
    "\n",
    "\n",
    "* A user can interact with there own jupyterlite instance in the browser with the same functionality as the local instance, however a drawback is when a notebook is launched in the browser any work done won't be saved for that a user much use the local instance.\n",
    "\n",
    "\n",
    "* JupyterLite makes it easier to run multiple kernals in the browser at the same time such as a JavaScript kernal, the theme of the notebook can be changed, widgets and other such imports can be handled in the requirements.txt in the local instance.\n",
    "\n",
    "* JupyterLite is lightweight saving space on your PC to run python in the browser with jupyterlite alongside GitHub pages, in the demo section one such demo is setting up a jupyterlite instance on GitHub pages.\n",
    "\n",
    "[JupyterLite Documentation](https://jupyterlite.readthedocs.io/en/latest/)\n",
    "\n",
    "[JupyterLite Web Assembly](https://blog.jupyter.org/jupyterlite-jupyter-%EF%B8%8F-webassembly-%EF%B8%8F-python-f6e2e41ab3fa)"
   ]
  },
  {
   "cell_type": "markdown",
   "id": "f25a420e",
   "metadata": {},
   "source": [
    "## JupyterLite Demo's\n",
    "***\n",
    "\n",
    "1. [Deploying JupyterLite instance on GitHub Pages](https://blog.jupyter.org/jupyterlite-jupyter-%EF%B8%8F-webassembly-%EF%B8%8F-python-f6e2e41ab3fa)\n",
    "\n",
    "\n",
    "2. [JupyterLite offical demo page to use and get your own static jupyterlite instance](https://jupyterlite.github.io/demo/lab/index.html)\n",
    "\n",
    "\n",
    "3. [John M. Shea twitter thread detailing how easy it is to make a JupyterLite site](https://twitter.com/jmshea/status/1482410305770590214)\n",
    "\n",
    "\n",
    "4. [Retro Demo of jupyterLite](https://jupyterlite.readthedocs.io/en/latest/_static/retro/tree/)\n",
    "\n",
    "\n",
    "5. [GitHub Repository of a template to use when creating a jupyterlite site](https://github.com/jupyterlite/demo)"
   ]
  },
  {
   "cell_type": "markdown",
   "id": "02fcaf2f",
   "metadata": {},
   "source": [
    "## Resources\n",
    "***\n",
    "\n",
    "[Syntax for GitHub Actions](https://docs.github.com/en/actions/using-workflows/workflow-syntax-for-github-actions)\n",
    "\n",
    "\n",
    "[GitHub Pages Documentation](https://docs.github.com/en/pages)\n",
    "\n",
    "\n",
    "[What is Pyodide](https://pyodide.org/en/stable/project/about.html)\n",
    "\n",
    "\n",
    "[The latest from JupyterLite](https://jupyterlite.readthedocs.io/en/latest/)\n",
    "\n",
    "\n",
    "[Python Requirements File](https://learnpython.com/blog/python-requirements-file/)\n",
    "\n",
    "\n",
    "[Web Storage API](https://developer.mozilla.org/en-US/docs/Web/API/Web_Storage_API)\n",
    "\n",
    "\n",
    "[IndexedDB API](https://developer.mozilla.org/en-US/docs/Web/API/IndexedDB_API)"
   ]
  },
  {
   "cell_type": "markdown",
   "id": "a913d8ad",
   "metadata": {},
   "source": [
    "***\n",
    "# End"
   ]
  }
 ],
 "metadata": {
  "kernelspec": {
   "display_name": "Python 3 (ipykernel)",
   "language": "python",
   "name": "python3"
  },
  "language_info": {
   "codemirror_mode": {
    "name": "ipython",
    "version": 3
   },
   "file_extension": ".py",
   "mimetype": "text/x-python",
   "name": "python",
   "nbconvert_exporter": "python",
   "pygments_lexer": "ipython3",
   "version": "3.9.13"
  }
 },
 "nbformat": 4,
 "nbformat_minor": 5
}
