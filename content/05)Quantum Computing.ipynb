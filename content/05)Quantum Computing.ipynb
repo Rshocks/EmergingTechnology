{
 "cells": [
  {
   "cell_type": "markdown",
   "id": "3645d13c",
   "metadata": {},
   "source": [
    "# Quantum Computing\n",
    "***\n",
    "This is a notebook on Quantum Computing.\n",
    "\n",
    "Quantum Computing has been around since the 1980's when Paul Benioff first proposed it on a turning machine. A quantum computer is meant to simulate things that a normal computer can not feasibly do.\n",
    "\n",
    "Quantum computers are needed to solve complex problems which can't be done with normal computers, such as poorly explained circumstances.\n",
    "\n",
    "#### [IBM on Quantum Computing;](https://www.ibm.com/topics/quantum-computing)IBM\n",
    "#### [Problems Computers can't solve;](https://www.inc.com/magazine/19820301/7600.html)Inc\n",
    "#### [Intro exercises on Quantum Computing;](https://towardsdatascience.com/what-is-quantum-entanglement-anyway-4ea97df4bb0e)Towardsdatascience"
   ]
  },
  {
   "cell_type": "code",
   "execution_count": 36,
   "id": "0bfdd24c",
   "metadata": {},
   "outputs": [
    {
     "ename": "ModuleNotFoundError",
     "evalue": "No module named 'draw'",
     "output_type": "error",
     "traceback": [
      "\u001b[1;31m---------------------------------------------------------------------------\u001b[0m",
      "\u001b[1;31mModuleNotFoundError\u001b[0m                       Traceback (most recent call last)",
      "Input \u001b[1;32mIn [36]\u001b[0m, in \u001b[0;36m<cell line: 1>\u001b[1;34m()\u001b[0m\n\u001b[1;32m----> 1\u001b[0m \u001b[38;5;28;01mimport\u001b[39;00m \u001b[38;5;21;01mdraw\u001b[39;00m\n\u001b[0;32m      2\u001b[0m \u001b[38;5;66;03m# qiskit is open source for using quantum computting\u001b[39;00m\n\u001b[0;32m      3\u001b[0m \u001b[38;5;28;01mfrom\u001b[39;00m \u001b[38;5;21;01mqiskit\u001b[39;00m \u001b[38;5;28;01mimport\u001b[39;00m __version__\n",
      "\u001b[1;31mModuleNotFoundError\u001b[0m: No module named 'draw'"
     ]
    }
   ],
   "source": [
    "import draw\n",
    "# qiskit is open source for using quantum computting\n",
    "from qiskit import __version__\n",
    "\n",
    "# provides functions which can manipulate different parts of the Python runtime environment\n",
    "import sys\n",
    "\n",
    "# The tools needed\n",
    "# Register is to define qubits\n",
    "from qiskit import QuantumRegister, ClassicalRegister\n",
    "\n",
    "# QuantumCircuit is computational routine\n",
    "from qiskit import QuantumCircuit\n",
    "\n",
    "# Aer is a high performance simulator\n",
    "from qiskit import Aer\n",
    "\n",
    "from qiskit import execute\n",
    "\n",
    " # Qiskit.visualization allows to make cool plots \n",
    "import qiskit.visualization                                   "
   ]
  },
  {
   "cell_type": "code",
   "execution_count": 45,
   "id": "2ff0c416",
   "metadata": {},
   "outputs": [
    {
     "data": {
      "text/plain": [
       "<qiskit.circuit.instructionset.InstructionSet at 0x1b3e8d376d0>"
      ]
     },
     "execution_count": 45,
     "metadata": {},
     "output_type": "execute_result"
    }
   ],
   "source": [
    "# allows us to do quantum simulation of measurements \n",
    "M_simulator=Aer.backends(name='qasm_simulator')[0]\n",
    "\n",
    "#Qubits filled with two\n",
    "qBits=QuantumRegister(2)\n",
    "\n",
    "# Classical bits filled also with two\n",
    "cBits=ClassicalRegister(2)\n",
    "\n",
    "# Put qBits and cBits together to make a Quantum Circuit, called entangler\n",
    "entangler=QuantumCircuit(qBits,cBits)\n",
    "\n",
    "# Apply Hadamard gate to the first qubit \n",
    "entangler.h(0)\n",
    "\n",
    "# Apply the CNOT gate with the first qubit as the control and second qubit as the target\n",
    "entangler.cx(0,1)\n",
    "\n",
    "# measure the first qubit and record it\n",
    "entangler.measure(0,0)\n",
    "\n",
    "# measure the second qubit and record it \n",
    "entangler.measure(1,1) "
   ]
  },
  {
   "cell_type": "code",
   "execution_count": 44,
   "id": "230cef14",
   "metadata": {},
   "outputs": [
    {
     "data": {
      "image/png": "[encoded data removed]",
      "text/plain": [
       "<Figure size 700x500 with 1 Axes>"
      ]
     },
     "execution_count": 44,
     "metadata": {},
     "output_type": "execute_result"
    }
   ],
   "source": [
    "#executes numerous measurements\n",
    "job=execute(entangler, M_simulator) \n",
    "\n",
    "#gives us histogram results \n",
    "hist=job.result().get_counts() \n",
    "\n",
    "#plot a stunning visualization\n",
    "plot_histogram(data=hist, title=\"Maximally Entangled State\")"
   ]
  },
  {
   "cell_type": "markdown",
   "id": "216c91d9",
   "metadata": {},
   "source": [
    "## Flipping a Coin\n",
    "***"
   ]
  },
  {
   "cell_type": "code",
   "execution_count": null,
   "id": "55aa3352",
   "metadata": {},
   "outputs": [],
   "source": [
    "# Generating random numbers.\n",
    "import numpy as np\n",
    "\n",
    "# Plotting.\n",
    "# seaborn is based on matplotlib for data visualization \n",
    "import seaborn as sns"
   ]
  },
  {
   "cell_type": "code",
   "execution_count": null,
   "id": "31f60279",
   "metadata": {},
   "outputs": [],
   "source": [
    "# Flip one coin.\n",
    "# binomial is a distribution which tells us the possibility of a variable will take one of two numbers/values\n",
    "np.random.binomial(1, 0.5)"
   ]
  },
  {
   "cell_type": "code",
   "execution_count": null,
   "id": "9924058d",
   "metadata": {},
   "outputs": [],
   "source": [
    "# Flip twenty coins.\n",
    "# Random built in module to randomise numbers\n",
    "np.random.binomial(1, 0.5, 20)"
   ]
  },
  {
   "cell_type": "code",
   "execution_count": null,
   "id": "151b12fd",
   "metadata": {},
   "outputs": [],
   "source": [
    "# Flip a coin one hundred times, counting total heads.\n",
    "# changes everytime\n",
    "np.random.binomial(100, 0.5)"
   ]
  },
  {
   "cell_type": "code",
   "execution_count": null,
   "id": "c09428db",
   "metadata": {},
   "outputs": [],
   "source": [
    "# Should be 50/50.\n",
    "# show counts of observations\n",
    "sns.countplot(x=np.random.binomial(1, 0.5, 1000000));"
   ]
  },
  {
   "cell_type": "code",
   "execution_count": null,
   "id": "d535cbc6",
   "metadata": {},
   "outputs": [],
   "source": [
    "# Outcomes of flipping two coins.\n",
    "sns.countplot(x=np.random.binomial(2, 0.5, 1000000));"
   ]
  },
  {
   "cell_type": "code",
   "execution_count": null,
   "id": "f251fb95",
   "metadata": {},
   "outputs": [],
   "source": [
    "# Outcomes of flipping three coins.\n",
    "sns.countplot(x=np.random.binomial(3, 0.5, 1000000));"
   ]
  },
  {
   "cell_type": "code",
   "execution_count": null,
   "id": "9cbde4bd",
   "metadata": {},
   "outputs": [],
   "source": [
    "# Outcomes of flipping forty coins.\n",
    "sns.countplot(x=np.random.binomial(40, 0.5, 100));"
   ]
  },
  {
   "cell_type": "code",
   "execution_count": null,
   "id": "29db4d0d",
   "metadata": {},
   "outputs": [],
   "source": []
  }
 ],
 "metadata": {
  "kernelspec": {
   "display_name": "Python 3 (ipykernel)",
   "language": "python",
   "name": "python3"
  },
  "language_info": {
   "codemirror_mode": {
    "name": "ipython",
    "version": 3
   },
   "file_extension": ".py",
   "mimetype": "text/x-python",
   "name": "python",
   "nbconvert_exporter": "python",
   "pygments_lexer": "ipython3",
   "version": "3.9.13"
  }
 },
 "nbformat": 4,
 "nbformat_minor": 5
}
